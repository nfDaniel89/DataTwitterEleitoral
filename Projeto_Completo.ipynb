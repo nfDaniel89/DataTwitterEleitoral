{
  "nbformat": 4,
  "nbformat_minor": 0,
  "metadata": {
    "colab": {
      "name": "Projeto_Completo.ipynb",
      "provenance": [],
      "collapsed_sections": [
        "ngtluESm9mKS",
        "UoKIE4lkATF5",
        "XL_AGizPAfMi",
        "zX00Pz3aAfZo"
      ],
      "authorship_tag": "ABX9TyOGDUB8PCAVt94OV+40bFZ5",
      "include_colab_link": true
    },
    "kernelspec": {
      "name": "python3",
      "display_name": "Python 3"
    },
    "language_info": {
      "name": "python"
    }
  },
  "cells": [
    {
      "cell_type": "markdown",
      "metadata": {
        "id": "view-in-github",
        "colab_type": "text"
      },
      "source": [
        "<a href=\"https://colab.research.google.com/github/nfDaniel89/DataTwitterEleitoral/blob/main/Projeto_Completo.ipynb\" target=\"_parent\"><img src=\"https://colab.research.google.com/assets/colab-badge.svg\" alt=\"Open In Colab\"/></a>"
      ]
    },
    {
      "cell_type": "markdown",
      "source": [
        "## Importando  e Instalando Bibliotecas"
      ],
      "metadata": {
        "id": "ngtluESm9mKS"
      }
    },
    {
      "cell_type": "code",
      "source": [
        "# pip install snscrape"
      ],
      "metadata": {
        "colab": {
          "base_uri": "https://localhost:8080/"
        },
        "id": "G2O5h19M98FE",
        "outputId": "352b2acf-7092-4504-8c62-6d34ffa0c2c5"
      },
      "execution_count": 2,
      "outputs": [
        {
          "output_type": "stream",
          "name": "stdout",
          "text": [
            "Looking in indexes: https://pypi.org/simple, https://us-python.pkg.dev/colab-wheels/public/simple/\n",
            "Collecting snscrape\n",
            "  Downloading snscrape-0.3.4-py3-none-any.whl (35 kB)\n",
            "Requirement already satisfied: beautifulsoup4 in /usr/local/lib/python3.7/dist-packages (from snscrape) (4.6.3)\n",
            "Requirement already satisfied: requests[socks] in /usr/local/lib/python3.7/dist-packages (from snscrape) (2.23.0)\n",
            "Requirement already satisfied: lxml in /usr/local/lib/python3.7/dist-packages (from snscrape) (4.9.1)\n",
            "Requirement already satisfied: chardet<4,>=3.0.2 in /usr/local/lib/python3.7/dist-packages (from requests[socks]->snscrape) (3.0.4)\n",
            "Requirement already satisfied: urllib3!=1.25.0,!=1.25.1,<1.26,>=1.21.1 in /usr/local/lib/python3.7/dist-packages (from requests[socks]->snscrape) (1.24.3)\n",
            "Requirement already satisfied: idna<3,>=2.5 in /usr/local/lib/python3.7/dist-packages (from requests[socks]->snscrape) (2.10)\n",
            "Requirement already satisfied: certifi>=2017.4.17 in /usr/local/lib/python3.7/dist-packages (from requests[socks]->snscrape) (2022.6.15)\n",
            "Requirement already satisfied: PySocks!=1.5.7,>=1.5.6 in /usr/local/lib/python3.7/dist-packages (from requests[socks]->snscrape) (1.7.1)\n",
            "Installing collected packages: snscrape\n",
            "Successfully installed snscrape-0.3.4\n"
          ]
        }
      ]
    },
    {
      "cell_type": "code",
      "source": [
        "# pip install vaderSentiment"
      ],
      "metadata": {
        "colab": {
          "base_uri": "https://localhost:8080/"
        },
        "id": "tMU0pNC1-5T-",
        "outputId": "d65fb1a0-8552-42e6-ce47-1b730ff2b461"
      },
      "execution_count": 3,
      "outputs": [
        {
          "output_type": "stream",
          "name": "stdout",
          "text": [
            "Looking in indexes: https://pypi.org/simple, https://us-python.pkg.dev/colab-wheels/public/simple/\n",
            "Collecting vaderSentiment\n",
            "  Downloading vaderSentiment-3.3.2-py2.py3-none-any.whl (125 kB)\n",
            "\u001b[K     |████████████████████████████████| 125 kB 4.9 MB/s \n",
            "\u001b[?25hRequirement already satisfied: requests in /usr/local/lib/python3.7/dist-packages (from vaderSentiment) (2.23.0)\n",
            "Requirement already satisfied: idna<3,>=2.5 in /usr/local/lib/python3.7/dist-packages (from requests->vaderSentiment) (2.10)\n",
            "Requirement already satisfied: chardet<4,>=3.0.2 in /usr/local/lib/python3.7/dist-packages (from requests->vaderSentiment) (3.0.4)\n",
            "Requirement already satisfied: certifi>=2017.4.17 in /usr/local/lib/python3.7/dist-packages (from requests->vaderSentiment) (2022.6.15)\n",
            "Requirement already satisfied: urllib3!=1.25.0,!=1.25.1,<1.26,>=1.21.1 in /usr/local/lib/python3.7/dist-packages (from requests->vaderSentiment) (1.24.3)\n",
            "Installing collected packages: vaderSentiment\n",
            "Successfully installed vaderSentiment-3.3.2\n"
          ]
        }
      ]
    },
    {
      "cell_type": "code",
      "execution_count": 4,
      "metadata": {
        "id": "u94s9XVo8h40"
      },
      "outputs": [],
      "source": [
        "import snscrape.modules.twitter as sntwitter\n",
        "from nltk.sentiment.vader import SentimentIntensityAnalyzer as SIA\n",
        "from vaderSentiment.vaderSentiment import SentimentIntensityAnalyzer\n",
        "import nltk\n",
        "import pandas as pd\n",
        "import re\n",
        "import matplotlib as plt\n",
        "import seaborn as sns"
      ]
    },
    {
      "cell_type": "code",
      "source": [
        ""
      ],
      "metadata": {
        "id": "IvZJcL7e_lnj"
      },
      "execution_count": null,
      "outputs": []
    },
    {
      "cell_type": "markdown",
      "source": [
        "## Coletando Dados (Tweets dos Candidatos)"
      ],
      "metadata": {
        "id": "sj_Nnbj__zBF"
      }
    },
    {
      "cell_type": "code",
      "source": [
        "maximo_tweets = 10000"
      ],
      "metadata": {
        "id": "z73bPGqoBbjP"
      },
      "execution_count": 8,
      "outputs": []
    },
    {
      "cell_type": "markdown",
      "source": [
        "  # Lula"
      ],
      "metadata": {
        "id": "UoKIE4lkATF5"
      }
    },
    {
      "cell_type": "code",
      "source": [
        "lista_de_tweets_lula = []"
      ],
      "metadata": {
        "id": "R-5ZXw8TAotl"
      },
      "execution_count": 9,
      "outputs": []
    },
    {
      "cell_type": "code",
      "source": [
        "for i, tweet in enumerate(sntwitter.TwitterSearchScraper(['lula']).get_items()):\n",
        "  if i > maximo_tweets:\n",
        "    break\n",
        "  lista_de_tweets_lula.append([tweet.date, tweet.id, tweet.content])"
      ],
      "metadata": {
        "colab": {
          "base_uri": "https://localhost:8080/"
        },
        "id": "8jEU6bggAuwd",
        "outputId": "e2909aa6-7a28-4bf3-d12d-178e50dcd1eb"
      },
      "execution_count": 11,
      "outputs": [
        {
          "output_type": "stream",
          "name": "stderr",
          "text": [
            "WARNING:snscrape.base:Error retrieving https://api.twitter.com/2/search/adaptive.json?include_profile_interstitial_type=1&include_blocking=1&include_blocked_by=1&include_followed_by=1&include_want_retweets=1&include_mute_edge=1&include_can_dm=1&include_can_media_tag=1&skip_status=1&cards_platform=Web-12&include_cards=1&include_composer_source=true&include_ext_alt_text=true&include_reply_count=1&tweet_mode=extended&include_entities=true&include_user_entities=true&include_ext_media_color=true&include_ext_media_availability=true&send_error_codes=true&simple_quoted_tweets=true&q=lula&tweet_search_mode=live&count=100&query_source=spelling_expansion_revert_click&cursor=scroll%3AthGAVUV0VFVBaCgLzd-fTpkysWhsClgb-Z75MrEnEVkKV1FYCJehgEVVNFUjUBFYYDFQAA&pc=1&spelling_corrections=1&ext=mediaStats%252CcameraMoment: ConnectionError(ProtocolError('Connection aborted.', ConnectionResetError(104, 'Connection reset by peer'))), retrying\n"
          ]
        }
      ]
    },
    {
      "cell_type": "code",
      "source": [
        "dataframe_tweets_lula = pd.DataFrame(lista_de_tweets_lula, columns=['Data_Hora', 'IdTweet', 'Tweet'])"
      ],
      "metadata": {
        "id": "WAGAAgj_AvHw"
      },
      "execution_count": 13,
      "outputs": []
    },
    {
      "cell_type": "code",
      "source": [
        "dataframe_tweets_lula['Candidato'] = 'Lula'"
      ],
      "metadata": {
        "id": "QClqT1aqBDBG"
      },
      "execution_count": 14,
      "outputs": []
    },
    {
      "cell_type": "markdown",
      "source": [
        "# Bolsonaro"
      ],
      "metadata": {
        "id": "XL_AGizPAfMi"
      }
    },
    {
      "cell_type": "code",
      "source": [
        "lista_de_tweets_bolsonaro = []"
      ],
      "metadata": {
        "id": "jKSIV7u6BRLv"
      },
      "execution_count": 18,
      "outputs": []
    },
    {
      "cell_type": "code",
      "source": [
        "for i, tweet in enumerate(sntwitter.TwitterSearchScraper(['Bolsonaro']).get_items()):\n",
        "  if i > maximo_tweets:\n",
        "    break\n",
        "  lista_de_tweets_bolsonaro.append([tweet.date, tweet.id, tweet.content])"
      ],
      "metadata": {
        "id": "CMKeM2UMB75P"
      },
      "execution_count": 19,
      "outputs": []
    },
    {
      "cell_type": "code",
      "source": [
        "dataframe_tweets_bolsonaro = pd.DataFrame(lista_de_tweets_bolsonaro, columns=['Data_Hora', 'IdTweet', 'Tweet'])"
      ],
      "metadata": {
        "id": "8uMiCgUQIyrh"
      },
      "execution_count": 21,
      "outputs": []
    },
    {
      "cell_type": "code",
      "source": [
        "dataframe_tweets_bolsonaro['Candidato'] = 'Bolsonaro'"
      ],
      "metadata": {
        "id": "MPjHQD_bCr1b"
      },
      "execution_count": 22,
      "outputs": []
    },
    {
      "cell_type": "code",
      "source": [
        ""
      ],
      "metadata": {
        "id": "qBjkBaLcB1G2"
      },
      "execution_count": null,
      "outputs": []
    },
    {
      "cell_type": "markdown",
      "source": [
        "# Felipe Dávila"
      ],
      "metadata": {
        "id": "zX00Pz3aAfZo"
      }
    },
    {
      "cell_type": "code",
      "source": [
        "lista_de_tweets_felipe = []"
      ],
      "metadata": {
        "id": "bo0GcstXAMz-"
      },
      "execution_count": 23,
      "outputs": []
    },
    {
      "cell_type": "code",
      "source": [
        "for i, tweet in enumerate(sntwitter.TwitterSearchScraper(['Felipe Dávila']).get_items()):\n",
        "  if i > maximo_tweets:\n",
        "    break\n",
        "  lista_de_tweets_felipe.append([tweet.date, tweet.id, tweet.content])"
      ],
      "metadata": {
        "id": "9kTxOuLsDAhI"
      },
      "execution_count": 24,
      "outputs": []
    },
    {
      "cell_type": "code",
      "source": [
        "dataframe_tweets_felipe = pd.DataFrame(lista_de_tweets_felipe, columns=['Data_Hora', 'IdTweet', 'Tweet'])"
      ],
      "metadata": {
        "id": "XACkaS6sI5Ip"
      },
      "execution_count": 25,
      "outputs": []
    },
    {
      "cell_type": "code",
      "source": [
        "dataframe_tweets_felipe['Candidato'] = 'Felipe Dávila'"
      ],
      "metadata": {
        "id": "4prSBCJLDItl"
      },
      "execution_count": 26,
      "outputs": []
    },
    {
      "cell_type": "markdown",
      "source": [
        "# Criando um unico data frame"
      ],
      "metadata": {
        "id": "FeKFlcvHW0iA"
      }
    },
    {
      "cell_type": "code",
      "source": [
        "dataframe_candidatos = pd.concat([dataframe_tweets_lula, dataframe_tweets_bolsonaro, dataframe_tweets_felipe], axis = 0)"
      ],
      "metadata": {
        "id": "8ujy0KrWWjTF"
      },
      "execution_count": 27,
      "outputs": []
    },
    {
      "cell_type": "markdown",
      "source": [
        "## Limpando Dados"
      ],
      "metadata": {
        "id": "348iPH7FXTtv"
      }
    },
    {
      "cell_type": "code",
      "source": [
        "dataframe_candidatos['Tweet_limpo'] = dataframe_candidatos['Tweet']"
      ],
      "metadata": {
        "id": "BOJBhFB3brmN"
      },
      "execution_count": 30,
      "outputs": []
    },
    {
      "cell_type": "code",
      "source": [
        "def limpeza_do_texto(tweet):\n",
        "  tweet = tweet.lower()\n",
        "  tweet = re.sub('\\n', '', tweet )\n",
        "  tweet = re.sub('@[^\\s]+', '', tweet)\n",
        "  tweet = re.sub('\\B#\\S+', '', tweet)\n",
        "  tweet = re.sub('https?://\\S+|www\\.\\S+', '', tweet)\n",
        "  return tweet"
      ],
      "metadata": {
        "id": "yw1O5LNVWwvk"
      },
      "execution_count": 28,
      "outputs": []
    },
    {
      "cell_type": "code",
      "source": [
        "dataframe_candidatos['Tweet_limpo'] = dataframe_candidatos['Tweet'].apply(lambda i: limpeza_do_texto(i))"
      ],
      "metadata": {
        "id": "wTrYDU-zchxz"
      },
      "execution_count": 32,
      "outputs": []
    },
    {
      "cell_type": "markdown",
      "source": [
        "## Análise de Sentimentos"
      ],
      "metadata": {
        "id": "PPXkAvUTdEW2"
      }
    },
    {
      "cell_type": "code",
      "source": [
        "sid = SentimentIntensityAnalyzer()"
      ],
      "metadata": {
        "id": "4AFG1i7LclUy"
      },
      "execution_count": 33,
      "outputs": []
    },
    {
      "cell_type": "code",
      "source": [
        "dataframe_candidatos['Sentimento'] = dataframe_candidatos['Tweet_limpo'].apply(lambda i: sid.polarity_scores(' '.join(re.findall(r'\\w+', i.lower()))))"
      ],
      "metadata": {
        "id": "MCVXnzwedO5i"
      },
      "execution_count": 34,
      "outputs": []
    },
    {
      "cell_type": "code",
      "source": [
        "dataframe_candidatos['Positivo'] = dataframe_candidatos['Sentimento'].apply(lambda i:i['pos'])\n",
        "dataframe_candidatos['Negativo'] = dataframe_candidatos['Sentimento'].apply(lambda i:i['neg'])\n",
        "dataframe_candidatos['Neutro'] = dataframe_candidatos['Sentimento'].apply(lambda i:i['neu'])\n",
        "dataframe_candidatos['Composicao'] = dataframe_candidatos['Sentimento'].apply(lambda i:i['compound'])"
      ],
      "metadata": {
        "id": "HFtbnnQ0dYYZ"
      },
      "execution_count": 36,
      "outputs": []
    },
    {
      "cell_type": "code",
      "source": [
        "sentimento = []"
      ],
      "metadata": {
        "id": "EV519w0DdeQQ"
      },
      "execution_count": 37,
      "outputs": []
    },
    {
      "cell_type": "code",
      "source": [
        "for i in dataframe_candidatos['Composicao']:\n",
        "  if i >= 0.05:\n",
        "    sentimento.append('Positivo')\n",
        "  elif i <= (-0.05):\n",
        "    sentimento.append('Negativo')\n",
        "  else:\n",
        "    sentimento.append('Neutro')"
      ],
      "metadata": {
        "id": "Tof0bA10dqyR"
      },
      "execution_count": 39,
      "outputs": []
    },
    {
      "cell_type": "code",
      "source": [
        "dataframe_candidatos['Sentimento_Final'] = sentimento"
      ],
      "metadata": {
        "id": "uqT6SryEdtw4"
      },
      "execution_count": 40,
      "outputs": []
    },
    {
      "cell_type": "markdown",
      "source": [
        "## Criando o Data Frame Final"
      ],
      "metadata": {
        "id": "gk8AS459eGQe"
      }
    },
    {
      "cell_type": "code",
      "source": [
        "dataframe_final = dataframe_candidatos[['Data_Hora', 'IdTweet', 'Tweet', 'Candidato', 'Tweet_limpo', 'Sentimento_Final']]"
      ],
      "metadata": {
        "id": "7gqOCi0keQ-E"
      },
      "execution_count": 41,
      "outputs": []
    },
    {
      "cell_type": "markdown",
      "source": [
        "## Visualisação dos dados"
      ],
      "metadata": {
        "id": "-k7w6iB8d7oE"
      }
    },
    {
      "cell_type": "code",
      "source": [
        "candidatos = dataframe_final.groupby('Candidato')"
      ],
      "metadata": {
        "id": "ifOQZaXMd15l"
      },
      "execution_count": 43,
      "outputs": []
    },
    {
      "cell_type": "code",
      "source": [
        "candidatos['Sentimento_Final'].value_counts()"
      ],
      "metadata": {
        "colab": {
          "base_uri": "https://localhost:8080/"
        },
        "id": "3colN4rjeYDq",
        "outputId": "17641ebe-763a-4950-9f75-3938f8d3bc4f"
      },
      "execution_count": 44,
      "outputs": [
        {
          "output_type": "execute_result",
          "data": {
            "text/plain": [
              "Candidato      Sentimento_Final\n",
              "Bolsonaro      Neutro              8003\n",
              "               Negativo            1570\n",
              "               Positivo             428\n",
              "Felipe Dávila  Neutro              7798\n",
              "               Negativo            1572\n",
              "               Positivo             631\n",
              "Lula           Neutro              7898\n",
              "               Negativo            1631\n",
              "               Positivo             472\n",
              "Name: Sentimento_Final, dtype: int64"
            ]
          },
          "metadata": {},
          "execution_count": 44
        }
      ]
    },
    {
      "cell_type": "code",
      "source": [
        "plt.rc('figure', figsize = (20, 10))\n",
        "fig = candidatos['Sentimento_Final'].value_counts().plot.bar(color = 'blue')\n",
        "fig.set_ylabel('Contagem')\n",
        "fig.set_title('Contaem de Sentimentos', {'fontsize':22})"
      ],
      "metadata": {
        "colab": {
          "base_uri": "https://localhost:8080/",
          "height": 759
        },
        "id": "afhAcftDefE1",
        "outputId": "d48b3655-d5c0-4d6f-a2b4-6b3ba7a5660c"
      },
      "execution_count": 55,
      "outputs": [
        {
          "output_type": "execute_result",
          "data": {
            "text/plain": [
              "Text(0.5, 1.0, 'Contaem de Sentimentos')"
            ]
          },
          "metadata": {},
          "execution_count": 55
        },
        {
          "output_type": "display_data",
          "data": {
            "text/plain": [
              "<Figure size 1440x720 with 1 Axes>"
            ],
            "image/png": "[encoded data removed]"
          },
          "metadata": {
            "needs_background": "light"
          }
        }
      ]
    },
    {
      "cell_type": "code",
      "source": [
        ""
      ],
      "metadata": {
        "id": "Howf2VNtgC52"
      },
      "execution_count": null,
      "outputs": []
    }
  ]
}