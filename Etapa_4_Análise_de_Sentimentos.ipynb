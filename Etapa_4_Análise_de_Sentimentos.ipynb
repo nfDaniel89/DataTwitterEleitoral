{
  "nbformat": 4,
  "nbformat_minor": 0,
  "metadata": {
    "colab": {
      "name": "Etapa 4 - Análise de Sentimentos.ipynb",
      "provenance": [],
      "authorship_tag": "ABX9TyPQghBN6YzM7Po5JQNc0OvC",
      "include_colab_link": true
    },
    "kernelspec": {
      "name": "python3",
      "display_name": "Python 3"
    },
    "language_info": {
      "name": "python"
    }
  },
  "cells": [
    {
      "cell_type": "markdown",
      "metadata": {
        "id": "view-in-github",
        "colab_type": "text"
      },
      "source": [
        "<a href=\"https://colab.research.google.com/github/nfDaniel89/DataTwitterEleitoral/blob/main/Etapa_4_An%C3%A1lise_de_Sentimentos.ipynb\" target=\"_parent\"><img src=\"https://colab.research.google.com/assets/colab-badge.svg\" alt=\"Open In Colab\"/></a>"
      ]
    },
    {
      "cell_type": "code",
      "source": [
        "pip install vaderSentiment"
      ],
      "metadata": {
        "colab": {
          "base_uri": "https://localhost:8080/"
        },
        "id": "5imv3JVt6lzH",
        "outputId": "a6989640-78d7-4f6a-c4d9-c292bf32a37d"
      },
      "execution_count": 4,
      "outputs": [
        {
          "output_type": "stream",
          "name": "stdout",
          "text": [
            "Looking in indexes: https://pypi.org/simple, https://us-python.pkg.dev/colab-wheels/public/simple/\n",
            "Collecting vaderSentiment\n",
            "  Downloading vaderSentiment-3.3.2-py2.py3-none-any.whl (125 kB)\n",
            "\u001b[K     |████████████████████████████████| 125 kB 4.2 MB/s \n",
            "\u001b[?25hRequirement already satisfied: requests in /usr/local/lib/python3.7/dist-packages (from vaderSentiment) (2.23.0)\n",
            "Requirement already satisfied: certifi>=2017.4.17 in /usr/local/lib/python3.7/dist-packages (from requests->vaderSentiment) (2022.6.15)\n",
            "Requirement already satisfied: urllib3!=1.25.0,!=1.25.1,<1.26,>=1.21.1 in /usr/local/lib/python3.7/dist-packages (from requests->vaderSentiment) (1.24.3)\n",
            "Requirement already satisfied: chardet<4,>=3.0.2 in /usr/local/lib/python3.7/dist-packages (from requests->vaderSentiment) (3.0.4)\n",
            "Requirement already satisfied: idna<3,>=2.5 in /usr/local/lib/python3.7/dist-packages (from requests->vaderSentiment) (2.10)\n",
            "Installing collected packages: vaderSentiment\n",
            "Successfully installed vaderSentiment-3.3.2\n"
          ]
        }
      ]
    },
    {
      "cell_type": "code",
      "execution_count": 15,
      "metadata": {
        "id": "obvPn0175rdt"
      },
      "outputs": [],
      "source": [
        "import pandas as pd\n",
        "import nltk\n",
        "from nltk.sentiment.vader import SentimentIntensityAnalyzer as SIA\n",
        "from vaderSentiment.vaderSentiment import SentimentIntensityAnalyzer\n",
        "import re"
      ]
    },
    {
      "cell_type": "code",
      "source": [
        "dataframe_sentimentos = pd.read_csv('dataframe_final_candidatos_pronto_para_sentimentos.csv')"
      ],
      "metadata": {
        "id": "W6zpeIHm5-53"
      },
      "execution_count": 17,
      "outputs": []
    },
    {
      "cell_type": "code",
      "source": [
        "dataframe_sentimentos.head()"
      ],
      "metadata": {
        "colab": {
          "base_uri": "https://localhost:8080/",
          "height": 337
        },
        "id": "_2z60NPA6dIo",
        "outputId": "17cfa1dd-1c73-4e83-d1e1-abb28e8818b9"
      },
      "execution_count": 18,
      "outputs": [
        {
          "output_type": "execute_result",
          "data": {
            "text/plain": [
              "                   Data_Hora              IdTweet  \\\n",
              "0  2022-07-30 00:13:14+00:00  1553171824535633920   \n",
              "1  2022-07-30 00:13:13+00:00  1553171823063437313   \n",
              "2  2022-07-30 00:13:13+00:00  1553171823050768385   \n",
              "3  2022-07-30 00:13:13+00:00  1553171822698430465   \n",
              "4  2022-07-30 00:13:13+00:00  1553171821243121665   \n",
              "\n",
              "                                               Tweet Candidato  \\\n",
              "0  @LulaOficial #BolsonaroNoPrimeiroTurno \\n#Bols...      Lula   \n",
              "1  @LulaOficial Assim como metia chifre na Marisa...      Lula   \n",
              "2                   @jairbolsonaro É LULA PRESIDENTE      Lula   \n",
              "3  @LulaOficial Brasil era orgulho para seus dita...      Lula   \n",
              "4  @BolsonaroSP Eu queria conhecer a mansão do se...      Lula   \n",
              "\n",
              "                                         Tweet_limpo  \n",
              "0                                                     \n",
              "1   assim como metia chifre na marisa mas foi lá ...  \n",
              "2                                  é lula presidente  \n",
              "3   brasil era orgulho para seus ditadores e empr...  \n",
              "4   eu queria conhecer a mansão do seu irmão , co...  "
            ],
            "text/html": [
              "\n",
              "  <div id=\"df-53c17f42-09e1-493b-9daa-8f2fb6b974f1\">\n",
              "    <div class=\"colab-df-container\">\n",
              "      <div>\n",
              "<style scoped>\n",
              "    .dataframe tbody tr th:only-of-type {\n",
              "        vertical-align: middle;\n",
              "    }\n",
              "\n",
              "    .dataframe tbody tr th {\n",
              "        vertical-align: top;\n",
              "    }\n",
              "\n",
              "    .dataframe thead th {\n",
              "        text-align: right;\n",
              "    }\n",
              "</style>\n",
              "<table border=\"1\" class=\"dataframe\">\n",
              "  <thead>\n",
              "    <tr style=\"text-align: right;\">\n",
              "      <th></th>\n",
              "      <th>Data_Hora</th>\n",
              "      <th>IdTweet</th>\n",
              "      <th>Tweet</th>\n",
              "      <th>Candidato</th>\n",
              "      <th>Tweet_limpo</th>\n",
              "    </tr>\n",
              "  </thead>\n",
              "  <tbody>\n",
              "    <tr>\n",
              "      <th>0</th>\n",
              "      <td>2022-07-30 00:13:14+00:00</td>\n",
              "      <td>1553171824535633920</td>\n",
              "      <td>@LulaOficial #BolsonaroNoPrimeiroTurno \\n#Bols...</td>\n",
              "      <td>Lula</td>\n",
              "      <td></td>\n",
              "    </tr>\n",
              "    <tr>\n",
              "      <th>1</th>\n",
              "      <td>2022-07-30 00:13:13+00:00</td>\n",
              "      <td>1553171823063437313</td>\n",
              "      <td>@LulaOficial Assim como metia chifre na Marisa...</td>\n",
              "      <td>Lula</td>\n",
              "      <td>assim como metia chifre na marisa mas foi lá ...</td>\n",
              "    </tr>\n",
              "    <tr>\n",
              "      <th>2</th>\n",
              "      <td>2022-07-30 00:13:13+00:00</td>\n",
              "      <td>1553171823050768385</td>\n",
              "      <td>@jairbolsonaro É LULA PRESIDENTE</td>\n",
              "      <td>Lula</td>\n",
              "      <td>é lula presidente</td>\n",
              "    </tr>\n",
              "    <tr>\n",
              "      <th>3</th>\n",
              "      <td>2022-07-30 00:13:13+00:00</td>\n",
              "      <td>1553171822698430465</td>\n",
              "      <td>@LulaOficial Brasil era orgulho para seus dita...</td>\n",
              "      <td>Lula</td>\n",
              "      <td>brasil era orgulho para seus ditadores e empr...</td>\n",
              "    </tr>\n",
              "    <tr>\n",
              "      <th>4</th>\n",
              "      <td>2022-07-30 00:13:13+00:00</td>\n",
              "      <td>1553171821243121665</td>\n",
              "      <td>@BolsonaroSP Eu queria conhecer a mansão do se...</td>\n",
              "      <td>Lula</td>\n",
              "      <td>eu queria conhecer a mansão do seu irmão , co...</td>\n",
              "    </tr>\n",
              "  </tbody>\n",
              "</table>\n",
              "</div>\n",
              "      <button class=\"colab-df-convert\" onclick=\"convertToInteractive('df-53c17f42-09e1-493b-9daa-8f2fb6b974f1')\"\n",
              "              title=\"Convert this dataframe to an interactive table.\"\n",
              "              style=\"display:none;\">\n",
              "        \n",
              "  <svg xmlns=\"http://www.w3.org/2000/svg\" height=\"24px\"viewBox=\"0 0 24 24\"\n",
              "       width=\"24px\">\n",
              "    <path d=\"M0 0h24v24H0V0z\" fill=\"none\"/>\n",
              "    <path d=\"M18.56 5.44l.94 2.06.94-2.06 2.06-.94-2.06-.94-.94-2.06-.94 2.06-2.06.94zm-11 1L8.5 8.5l.94-2.06 2.06-.94-2.06-.94L8.5 2.5l-.94 2.06-2.06.94zm10 10l.94 2.06.94-2.06 2.06-.94-2.06-.94-.94-2.06-.94 2.06-2.06.94z\"/><path d=\"M17.41 7.96l-1.37-1.37c-.4-.4-.92-.59-1.43-.59-.52 0-1.04.2-1.43.59L10.3 9.45l-7.72 7.72c-.78.78-.78 2.05 0 2.83L4 21.41c.39.39.9.59 1.41.59.51 0 1.02-.2 1.41-.59l7.78-7.78 2.81-2.81c.8-.78.8-2.07 0-2.86zM5.41 20L4 18.59l7.72-7.72 1.47 1.35L5.41 20z\"/>\n",
              "  </svg>\n",
              "      </button>\n",
              "      \n",
              "  <style>\n",
              "    .colab-df-container {\n",
              "      display:flex;\n",
              "      flex-wrap:wrap;\n",
              "      gap: 12px;\n",
              "    }\n",
              "\n",
              "    .colab-df-convert {\n",
              "      background-color: #E8F0FE;\n",
              "      border: none;\n",
              "      border-radius: 50%;\n",
              "      cursor: pointer;\n",
              "      display: none;\n",
              "      fill: #1967D2;\n",
              "      height: 32px;\n",
              "      padding: 0 0 0 0;\n",
              "      width: 32px;\n",
              "    }\n",
              "\n",
              "    .colab-df-convert:hover {\n",
              "      background-color: #E2EBFA;\n",
              "      box-shadow: 0px 1px 2px rgba(60, 64, 67, 0.3), 0px 1px 3px 1px rgba(60, 64, 67, 0.15);\n",
              "      fill: #174EA6;\n",
              "    }\n",
              "\n",
              "    [theme=dark] .colab-df-convert {\n",
              "      background-color: #3B4455;\n",
              "      fill: #D2E3FC;\n",
              "    }\n",
              "\n",
              "    [theme=dark] .colab-df-convert:hover {\n",
              "      background-color: #434B5C;\n",
              "      box-shadow: 0px 1px 3px 1px rgba(0, 0, 0, 0.15);\n",
              "      filter: drop-shadow(0px 1px 2px rgba(0, 0, 0, 0.3));\n",
              "      fill: #FFFFFF;\n",
              "    }\n",
              "  </style>\n",
              "\n",
              "      <script>\n",
              "        const buttonEl =\n",
              "          document.querySelector('#df-53c17f42-09e1-493b-9daa-8f2fb6b974f1 button.colab-df-convert');\n",
              "        buttonEl.style.display =\n",
              "          google.colab.kernel.accessAllowed ? 'block' : 'none';\n",
              "\n",
              "        async function convertToInteractive(key) {\n",
              "          const element = document.querySelector('#df-53c17f42-09e1-493b-9daa-8f2fb6b974f1');\n",
              "          const dataTable =\n",
              "            await google.colab.kernel.invokeFunction('convertToInteractive',\n",
              "                                                     [key], {});\n",
              "          if (!dataTable) return;\n",
              "\n",
              "          const docLinkHtml = 'Like what you see? Visit the ' +\n",
              "            '<a target=\"_blank\" href=https://colab.research.google.com/notebooks/data_table.ipynb>data table notebook</a>'\n",
              "            + ' to learn more about interactive tables.';\n",
              "          element.innerHTML = '';\n",
              "          dataTable['output_type'] = 'display_data';\n",
              "          await google.colab.output.renderOutput(dataTable, element);\n",
              "          const docLink = document.createElement('div');\n",
              "          docLink.innerHTML = docLinkHtml;\n",
              "          element.appendChild(docLink);\n",
              "        }\n",
              "      </script>\n",
              "    </div>\n",
              "  </div>\n",
              "  "
            ]
          },
          "metadata": {},
          "execution_count": 18
        }
      ]
    },
    {
      "cell_type": "code",
      "source": [
        "sid = SentimentIntensityAnalyzer()"
      ],
      "metadata": {
        "id": "6GsR5k516iPo"
      },
      "execution_count": 19,
      "outputs": []
    },
    {
      "cell_type": "code",
      "source": [
        "dataframe_sentimentos['Sentimento'] = dataframe_sentimentos['Tweet_limpo'].apply(lambda i: sid.polarity_scores(' '.join(re.findall(r'\\w+', i.lower()))))"
      ],
      "metadata": {
        "id": "39LVB9LM7vpb"
      },
      "execution_count": 21,
      "outputs": []
    },
    {
      "cell_type": "code",
      "source": [
        "dataframe_sentimentos.head()"
      ],
      "metadata": {
        "colab": {
          "base_uri": "https://localhost:8080/",
          "height": 337
        },
        "id": "meOQ9PVb9sr9",
        "outputId": "29a12241-5db3-4f47-8339-8568e63c3037"
      },
      "execution_count": 22,
      "outputs": [
        {
          "output_type": "execute_result",
          "data": {
            "text/plain": [
              "                   Data_Hora              IdTweet  \\\n",
              "0  2022-07-30 00:13:14+00:00  1553171824535633920   \n",
              "1  2022-07-30 00:13:13+00:00  1553171823063437313   \n",
              "2  2022-07-30 00:13:13+00:00  1553171823050768385   \n",
              "3  2022-07-30 00:13:13+00:00  1553171822698430465   \n",
              "4  2022-07-30 00:13:13+00:00  1553171821243121665   \n",
              "\n",
              "                                               Tweet Candidato  \\\n",
              "0  @LulaOficial #BolsonaroNoPrimeiroTurno \\n#Bols...      Lula   \n",
              "1  @LulaOficial Assim como metia chifre na Marisa...      Lula   \n",
              "2                   @jairbolsonaro É LULA PRESIDENTE      Lula   \n",
              "3  @LulaOficial Brasil era orgulho para seus dita...      Lula   \n",
              "4  @BolsonaroSP Eu queria conhecer a mansão do se...      Lula   \n",
              "\n",
              "                                         Tweet_limpo  \\\n",
              "0                                                      \n",
              "1   assim como metia chifre na marisa mas foi lá ...   \n",
              "2                                  é lula presidente   \n",
              "3   brasil era orgulho para seus ditadores e empr...   \n",
              "4   eu queria conhecer a mansão do seu irmão , co...   \n",
              "\n",
              "                                          Sentimento  \n",
              "0  {'neg': 0.0, 'neu': 0.0, 'pos': 0.0, 'compound...  \n",
              "1  {'neg': 0.099, 'neu': 0.901, 'pos': 0.0, 'comp...  \n",
              "2  {'neg': 0.0, 'neu': 1.0, 'pos': 0.0, 'compound...  \n",
              "3  {'neg': 0.0, 'neu': 1.0, 'pos': 0.0, 'compound...  \n",
              "4  {'neg': 0.0, 'neu': 1.0, 'pos': 0.0, 'compound...  "
            ],
            "text/html": [
              "\n",
              "  <div id=\"df-edab1e5a-e689-40d8-aa2c-eb47cd12d0d1\">\n",
              "    <div class=\"colab-df-container\">\n",
              "      <div>\n",
              "<style scoped>\n",
              "    .dataframe tbody tr th:only-of-type {\n",
              "        vertical-align: middle;\n",
              "    }\n",
              "\n",
              "    .dataframe tbody tr th {\n",
              "        vertical-align: top;\n",
              "    }\n",
              "\n",
              "    .dataframe thead th {\n",
              "        text-align: right;\n",
              "    }\n",
              "</style>\n",
              "<table border=\"1\" class=\"dataframe\">\n",
              "  <thead>\n",
              "    <tr style=\"text-align: right;\">\n",
              "      <th></th>\n",
              "      <th>Data_Hora</th>\n",
              "      <th>IdTweet</th>\n",
              "      <th>Tweet</th>\n",
              "      <th>Candidato</th>\n",
              "      <th>Tweet_limpo</th>\n",
              "      <th>Sentimento</th>\n",
              "    </tr>\n",
              "  </thead>\n",
              "  <tbody>\n",
              "    <tr>\n",
              "      <th>0</th>\n",
              "      <td>2022-07-30 00:13:14+00:00</td>\n",
              "      <td>1553171824535633920</td>\n",
              "      <td>@LulaOficial #BolsonaroNoPrimeiroTurno \\n#Bols...</td>\n",
              "      <td>Lula</td>\n",
              "      <td></td>\n",
              "      <td>{'neg': 0.0, 'neu': 0.0, 'pos': 0.0, 'compound...</td>\n",
              "    </tr>\n",
              "    <tr>\n",
              "      <th>1</th>\n",
              "      <td>2022-07-30 00:13:13+00:00</td>\n",
              "      <td>1553171823063437313</td>\n",
              "      <td>@LulaOficial Assim como metia chifre na Marisa...</td>\n",
              "      <td>Lula</td>\n",
              "      <td>assim como metia chifre na marisa mas foi lá ...</td>\n",
              "      <td>{'neg': 0.099, 'neu': 0.901, 'pos': 0.0, 'comp...</td>\n",
              "    </tr>\n",
              "    <tr>\n",
              "      <th>2</th>\n",
              "      <td>2022-07-30 00:13:13+00:00</td>\n",
              "      <td>1553171823050768385</td>\n",
              "      <td>@jairbolsonaro É LULA PRESIDENTE</td>\n",
              "      <td>Lula</td>\n",
              "      <td>é lula presidente</td>\n",
              "      <td>{'neg': 0.0, 'neu': 1.0, 'pos': 0.0, 'compound...</td>\n",
              "    </tr>\n",
              "    <tr>\n",
              "      <th>3</th>\n",
              "      <td>2022-07-30 00:13:13+00:00</td>\n",
              "      <td>1553171822698430465</td>\n",
              "      <td>@LulaOficial Brasil era orgulho para seus dita...</td>\n",
              "      <td>Lula</td>\n",
              "      <td>brasil era orgulho para seus ditadores e empr...</td>\n",
              "      <td>{'neg': 0.0, 'neu': 1.0, 'pos': 0.0, 'compound...</td>\n",
              "    </tr>\n",
              "    <tr>\n",
              "      <th>4</th>\n",
              "      <td>2022-07-30 00:13:13+00:00</td>\n",
              "      <td>1553171821243121665</td>\n",
              "      <td>@BolsonaroSP Eu queria conhecer a mansão do se...</td>\n",
              "      <td>Lula</td>\n",
              "      <td>eu queria conhecer a mansão do seu irmão , co...</td>\n",
              "      <td>{'neg': 0.0, 'neu': 1.0, 'pos': 0.0, 'compound...</td>\n",
              "    </tr>\n",
              "  </tbody>\n",
              "</table>\n",
              "</div>\n",
              "      <button class=\"colab-df-convert\" onclick=\"convertToInteractive('df-edab1e5a-e689-40d8-aa2c-eb47cd12d0d1')\"\n",
              "              title=\"Convert this dataframe to an interactive table.\"\n",
              "              style=\"display:none;\">\n",
              "        \n",
              "  <svg xmlns=\"http://www.w3.org/2000/svg\" height=\"24px\"viewBox=\"0 0 24 24\"\n",
              "       width=\"24px\">\n",
              "    <path d=\"M0 0h24v24H0V0z\" fill=\"none\"/>\n",
              "    <path d=\"M18.56 5.44l.94 2.06.94-2.06 2.06-.94-2.06-.94-.94-2.06-.94 2.06-2.06.94zm-11 1L8.5 8.5l.94-2.06 2.06-.94-2.06-.94L8.5 2.5l-.94 2.06-2.06.94zm10 10l.94 2.06.94-2.06 2.06-.94-2.06-.94-.94-2.06-.94 2.06-2.06.94z\"/><path d=\"M17.41 7.96l-1.37-1.37c-.4-.4-.92-.59-1.43-.59-.52 0-1.04.2-1.43.59L10.3 9.45l-7.72 7.72c-.78.78-.78 2.05 0 2.83L4 21.41c.39.39.9.59 1.41.59.51 0 1.02-.2 1.41-.59l7.78-7.78 2.81-2.81c.8-.78.8-2.07 0-2.86zM5.41 20L4 18.59l7.72-7.72 1.47 1.35L5.41 20z\"/>\n",
              "  </svg>\n",
              "      </button>\n",
              "      \n",
              "  <style>\n",
              "    .colab-df-container {\n",
              "      display:flex;\n",
              "      flex-wrap:wrap;\n",
              "      gap: 12px;\n",
              "    }\n",
              "\n",
              "    .colab-df-convert {\n",
              "      background-color: #E8F0FE;\n",
              "      border: none;\n",
              "      border-radius: 50%;\n",
              "      cursor: pointer;\n",
              "      display: none;\n",
              "      fill: #1967D2;\n",
              "      height: 32px;\n",
              "      padding: 0 0 0 0;\n",
              "      width: 32px;\n",
              "    }\n",
              "\n",
              "    .colab-df-convert:hover {\n",
              "      background-color: #E2EBFA;\n",
              "      box-shadow: 0px 1px 2px rgba(60, 64, 67, 0.3), 0px 1px 3px 1px rgba(60, 64, 67, 0.15);\n",
              "      fill: #174EA6;\n",
              "    }\n",
              "\n",
              "    [theme=dark] .colab-df-convert {\n",
              "      background-color: #3B4455;\n",
              "      fill: #D2E3FC;\n",
              "    }\n",
              "\n",
              "    [theme=dark] .colab-df-convert:hover {\n",
              "      background-color: #434B5C;\n",
              "      box-shadow: 0px 1px 3px 1px rgba(0, 0, 0, 0.15);\n",
              "      filter: drop-shadow(0px 1px 2px rgba(0, 0, 0, 0.3));\n",
              "      fill: #FFFFFF;\n",
              "    }\n",
              "  </style>\n",
              "\n",
              "      <script>\n",
              "        const buttonEl =\n",
              "          document.querySelector('#df-edab1e5a-e689-40d8-aa2c-eb47cd12d0d1 button.colab-df-convert');\n",
              "        buttonEl.style.display =\n",
              "          google.colab.kernel.accessAllowed ? 'block' : 'none';\n",
              "\n",
              "        async function convertToInteractive(key) {\n",
              "          const element = document.querySelector('#df-edab1e5a-e689-40d8-aa2c-eb47cd12d0d1');\n",
              "          const dataTable =\n",
              "            await google.colab.kernel.invokeFunction('convertToInteractive',\n",
              "                                                     [key], {});\n",
              "          if (!dataTable) return;\n",
              "\n",
              "          const docLinkHtml = 'Like what you see? Visit the ' +\n",
              "            '<a target=\"_blank\" href=https://colab.research.google.com/notebooks/data_table.ipynb>data table notebook</a>'\n",
              "            + ' to learn more about interactive tables.';\n",
              "          element.innerHTML = '';\n",
              "          dataTable['output_type'] = 'display_data';\n",
              "          await google.colab.output.renderOutput(dataTable, element);\n",
              "          const docLink = document.createElement('div');\n",
              "          docLink.innerHTML = docLinkHtml;\n",
              "          element.appendChild(docLink);\n",
              "        }\n",
              "      </script>\n",
              "    </div>\n",
              "  </div>\n",
              "  "
            ]
          },
          "metadata": {},
          "execution_count": 22
        }
      ]
    },
    {
      "cell_type": "code",
      "source": [
        "dataframe_sentimentos['Sentimento']"
      ],
      "metadata": {
        "colab": {
          "base_uri": "https://localhost:8080/"
        },
        "id": "0QPz64oG-nbM",
        "outputId": "ffb28507-0361-42ec-d211-53dcffcfe9d4"
      },
      "execution_count": 23,
      "outputs": [
        {
          "output_type": "execute_result",
          "data": {
            "text/plain": [
              "0      {'neg': 0.0, 'neu': 0.0, 'pos': 0.0, 'compound...\n",
              "1      {'neg': 0.099, 'neu': 0.901, 'pos': 0.0, 'comp...\n",
              "2      {'neg': 0.0, 'neu': 1.0, 'pos': 0.0, 'compound...\n",
              "3      {'neg': 0.0, 'neu': 1.0, 'pos': 0.0, 'compound...\n",
              "4      {'neg': 0.0, 'neu': 1.0, 'pos': 0.0, 'compound...\n",
              "                             ...                        \n",
              "148    {'neg': 0.0, 'neu': 1.0, 'pos': 0.0, 'compound...\n",
              "149    {'neg': 0.094, 'neu': 0.906, 'pos': 0.0, 'comp...\n",
              "150    {'neg': 0.0, 'neu': 1.0, 'pos': 0.0, 'compound...\n",
              "151    {'neg': 0.0, 'neu': 1.0, 'pos': 0.0, 'compound...\n",
              "152    {'neg': 0.0, 'neu': 1.0, 'pos': 0.0, 'compound...\n",
              "Name: Sentimento, Length: 153, dtype: object"
            ]
          },
          "metadata": {},
          "execution_count": 23
        }
      ]
    },
    {
      "cell_type": "code",
      "source": [
        "dataframe_sentimentos.to_csv('dataframe_sentimentos.csv', index = False)"
      ],
      "metadata": {
        "id": "9BG3nHgt_DOn"
      },
      "execution_count": 24,
      "outputs": []
    },
    {
      "cell_type": "code",
      "source": [
        ""
      ],
      "metadata": {
        "id": "LCannex5_XOe"
      },
      "execution_count": null,
      "outputs": []
    }
  ]
}